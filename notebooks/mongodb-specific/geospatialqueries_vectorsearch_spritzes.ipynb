{
  "cells": [
    {
      "cell_type": "markdown",
      "metadata": {
        "id": "view-in-github",
        "colab_type": "text"
      },
      "source": [
        "<a href=\"https://colab.research.google.com/github/Roop-TL/POC_vector_search_mongo/blob/main/notebooks/mongodb-specific/geospatialqueries_vectorsearch_spritzes.ipynb\" target=\"_parent\"><img src=\"https://colab.research.google.com/assets/colab-badge.svg\" alt=\"Open In Colab\"/></a>"
      ]
    },
    {
      "cell_type": "markdown",
      "metadata": {
        "id": "x0Kkh5pE8ZHr"
      },
      "source": [
        "[![Open In Colab](https://colab.research.google.com/assets/colab-badge.svg)](https://colab.research.google.com/github/mongodb-developer/GenAI-Showcase/blob/main/notebooks/mongodb-specific/geospatialqueries_vectorsearch_spritzes.ipynb)\n",
        "\n",
        "[![View Article](https://img.shields.io/badge/View%20Article-blue)](https://www.mongodb.com/developer/products/mongodb/geospatial-queries-vector-search/)\n",
        "\n",
        "\n",
        "First install your Google Maps library and install OpenAI, since we will need the Google Maps library for our Google Places API and we will need OpenAI to embed our documents.\n",
        "\n",
        "\n",
        "\n"
      ]
    },
    {
      "cell_type": "code",
      "execution_count": 1,
      "metadata": {
        "colab": {
          "base_uri": "https://localhost:8080/"
        },
        "id": "ZPC7iywA8Qar",
        "outputId": "6fd1cb86-0be0-430d-e626-7b91a95a0e0a"
      },
      "outputs": [
        {
          "output_type": "stream",
          "name": "stdout",
          "text": [
            "Collecting googlemaps\n",
            "  Downloading googlemaps-4.10.0.tar.gz (33 kB)\n",
            "  Preparing metadata (setup.py) ... \u001b[?25l\u001b[?25hdone\n",
            "Requirement already satisfied: requests<3.0,>=2.20.0 in /usr/local/lib/python3.10/dist-packages (from googlemaps) (2.32.3)\n",
            "Requirement already satisfied: charset-normalizer<4,>=2 in /usr/local/lib/python3.10/dist-packages (from requests<3.0,>=2.20.0->googlemaps) (3.4.0)\n",
            "Requirement already satisfied: idna<4,>=2.5 in /usr/local/lib/python3.10/dist-packages (from requests<3.0,>=2.20.0->googlemaps) (3.10)\n",
            "Requirement already satisfied: urllib3<3,>=1.21.1 in /usr/local/lib/python3.10/dist-packages (from requests<3.0,>=2.20.0->googlemaps) (2.2.3)\n",
            "Requirement already satisfied: certifi>=2017.4.17 in /usr/local/lib/python3.10/dist-packages (from requests<3.0,>=2.20.0->googlemaps) (2024.12.14)\n",
            "Building wheels for collected packages: googlemaps\n",
            "  Building wheel for googlemaps (setup.py) ... \u001b[?25l\u001b[?25hdone\n",
            "  Created wheel for googlemaps: filename=googlemaps-4.10.0-py3-none-any.whl size=40715 sha256=18ef5d1b100f326592f93a7721f43a9b5a604d7ba8a9b2df78b1b640b4c9b12e\n",
            "  Stored in directory: /root/.cache/pip/wheels/17/f8/79/999d5d37118fd35d7219ef57933eb9d09886c4c4503a800f84\n",
            "Successfully built googlemaps\n",
            "Installing collected packages: googlemaps\n",
            "Successfully installed googlemaps-4.10.0\n",
            "Collecting openai==0.28\n",
            "  Downloading openai-0.28.0-py3-none-any.whl.metadata (13 kB)\n",
            "Requirement already satisfied: requests>=2.20 in /usr/local/lib/python3.10/dist-packages (from openai==0.28) (2.32.3)\n",
            "Requirement already satisfied: tqdm in /usr/local/lib/python3.10/dist-packages (from openai==0.28) (4.67.1)\n",
            "Requirement already satisfied: aiohttp in /usr/local/lib/python3.10/dist-packages (from openai==0.28) (3.11.10)\n",
            "Requirement already satisfied: charset-normalizer<4,>=2 in /usr/local/lib/python3.10/dist-packages (from requests>=2.20->openai==0.28) (3.4.0)\n",
            "Requirement already satisfied: idna<4,>=2.5 in /usr/local/lib/python3.10/dist-packages (from requests>=2.20->openai==0.28) (3.10)\n",
            "Requirement already satisfied: urllib3<3,>=1.21.1 in /usr/local/lib/python3.10/dist-packages (from requests>=2.20->openai==0.28) (2.2.3)\n",
            "Requirement already satisfied: certifi>=2017.4.17 in /usr/local/lib/python3.10/dist-packages (from requests>=2.20->openai==0.28) (2024.12.14)\n",
            "Requirement already satisfied: aiohappyeyeballs>=2.3.0 in /usr/local/lib/python3.10/dist-packages (from aiohttp->openai==0.28) (2.4.4)\n",
            "Requirement already satisfied: aiosignal>=1.1.2 in /usr/local/lib/python3.10/dist-packages (from aiohttp->openai==0.28) (1.3.2)\n",
            "Requirement already satisfied: async-timeout<6.0,>=4.0 in /usr/local/lib/python3.10/dist-packages (from aiohttp->openai==0.28) (4.0.3)\n",
            "Requirement already satisfied: attrs>=17.3.0 in /usr/local/lib/python3.10/dist-packages (from aiohttp->openai==0.28) (24.3.0)\n",
            "Requirement already satisfied: frozenlist>=1.1.1 in /usr/local/lib/python3.10/dist-packages (from aiohttp->openai==0.28) (1.5.0)\n",
            "Requirement already satisfied: multidict<7.0,>=4.5 in /usr/local/lib/python3.10/dist-packages (from aiohttp->openai==0.28) (6.1.0)\n",
            "Requirement already satisfied: propcache>=0.2.0 in /usr/local/lib/python3.10/dist-packages (from aiohttp->openai==0.28) (0.2.1)\n",
            "Requirement already satisfied: yarl<2.0,>=1.17.0 in /usr/local/lib/python3.10/dist-packages (from aiohttp->openai==0.28) (1.18.3)\n",
            "Requirement already satisfied: typing-extensions>=4.1.0 in /usr/local/lib/python3.10/dist-packages (from multidict<7.0,>=4.5->aiohttp->openai==0.28) (4.12.2)\n",
            "Downloading openai-0.28.0-py3-none-any.whl (76 kB)\n",
            "\u001b[2K   \u001b[90m━━━━━━━━━━━━━━━━━━━━━━━━━━━━━━━━━━━━━━━━\u001b[0m \u001b[32m76.5/76.5 kB\u001b[0m \u001b[31m2.1 MB/s\u001b[0m eta \u001b[36m0:00:00\u001b[0m\n",
            "\u001b[?25hInstalling collected packages: openai\n",
            "  Attempting uninstall: openai\n",
            "    Found existing installation: openai 1.57.4\n",
            "    Uninstalling openai-1.57.4:\n",
            "      Successfully uninstalled openai-1.57.4\n",
            "Successfully installed openai-0.28.0\n"
          ]
        }
      ],
      "source": [
        "!pip install googlemaps\n",
        "!pip install openai==0.28"
      ]
    },
    {
      "cell_type": "markdown",
      "metadata": {
        "id": "wLxN71eV9UdZ"
      },
      "source": [
        "Let's now pass in our imports. We are going to be including the `getpass` library since we will need it to write in our secret keys."
      ]
    },
    {
      "cell_type": "code",
      "execution_count": 34,
      "metadata": {
        "id": "fdWPgCop9eZZ"
      },
      "outputs": [],
      "source": [
        "import getpass\n",
        "from transformers import GPT2TokenizerFast\n",
        "\n",
        "import googlemaps\n",
        "import openai"
      ]
    },
    {
      "cell_type": "markdown",
      "metadata": {
        "id": "BZ1NLQ1o9hJu"
      },
      "source": [
        "Write in your secret keys, we will need to write in our Google API Key and our [OpenAI API Key](https://help.openai.com/en/articles/4936850-where-do-i-find-my-openai-api-key)."
      ]
    },
    {
      "cell_type": "code",
      "execution_count": 6,
      "metadata": {
        "colab": {
          "base_uri": "https://localhost:8080/"
        },
        "id": "jZiwwq2J9oN_",
        "outputId": "5e67c1be-e22d-48a3-dc41-0f4c8c2a8f9e"
      },
      "outputs": [
        {
          "name": "stdout",
          "output_type": "stream",
          "text": [
            "Put in Google API Key here··········\n",
            "Put in OpenAI API Key here··········\n"
          ]
        }
      ],
      "source": [
        "# google API Key\n",
        "google_api_key = getpass.getpass(prompt=\"Put in Google API Key here\")\n",
        "map_client = googlemaps.Client(key=google_api_key)\n",
        "\n",
        "# openAI API Key\n",
        "openai_api_key = getpass.getpass(prompt=\"Put in OpenAI API Key here\")"
      ]
    },
    {
      "cell_type": "markdown",
      "metadata": {
        "id": "3sK9KBqX-g45"
      },
      "source": [
        "Now, let's set ourselves up for Vector Search success. First, set your key and then establish our embedding function. For this tutorial, we are using OpenAI's \"text-embedding-3-small\" embedding model. We are going to be embedding the reviews of our spritz locations so we can make some judgements on where to go!"
      ]
    },
    {
      "cell_type": "code",
      "execution_count": 49,
      "metadata": {
        "id": "WFdmLPjk-1jb"
      },
      "outputs": [],
      "source": [
        "# set your key\n",
        "\n",
        "# openai.api_key = openai_api_key\n",
        "\n",
        "# # embedding model we are using\n",
        "# EMBEDDING_MODEL = \"text-embedding-3-small\"\n",
        "\n",
        "\n",
        "# # our embedding function\n",
        "# def get_embedding(text):\n",
        "#     print(f\"text , {text}\")\n",
        "#     response = openai.embeddings.create(input=text, model=EMBEDDING_MODEL)\n",
        "#     return response[\"data\"][0][\"embedding\"]\n",
        "\n",
        "# Using hugging face Xenova\n",
        "def get_embedding(text):\n",
        "  tokenizer = GPT2TokenizerFast.from_pretrained('Xenova/text-embedding-ada-002')\n",
        "  result = tokenizer.encode('hello world')\n",
        "  return result"
      ]
    },
    {
      "cell_type": "markdown",
      "metadata": {
        "id": "fxZLkeWh-5VS"
      },
      "source": [
        "When using Nearby Search in our Google Maps API, we are required to set up three parameters: location, radius, and keyword. For our location, we can find our starting coordinates (the very middle of West Village) by right clicking on Google Maps and copying the coordinates to our clipboard. That is how I got the coordinates shown below.\n",
        "\n",
        "For our radius, we have to have it in meters. Since I'm not very savvy with meters, let's write a small function to help us make that conversion.\n",
        "\n",
        "Our keyword will just be what we're hoping to find from the Google Places API, aperol spritzes!\n",
        "\n",
        "We can then make our API call using the `places_nearby` method.\n"
      ]
    },
    {
      "cell_type": "code",
      "execution_count": 12,
      "metadata": {
        "id": "rjeXh_0t_DuN",
        "outputId": "7cfd1282-e75a-4d7c-8426-f500cbe46731",
        "colab": {
          "base_uri": "https://localhost:8080/"
        }
      },
      "outputs": [
        {
          "output_type": "stream",
          "name": "stdout",
          "text": [
            "{'html_attributions': [], 'results': [{'business_status': 'OPERATIONAL', 'geometry': {'location': {'lat': 12.9262351, 'lng': 77.5845779}, 'viewport': {'northeast': {'lat': 12.92763917989272, 'lng': 77.58592882989272}, 'southwest': {'lat': 12.92493952010728, 'lng': 77.58322917010727}}}, 'icon': 'https://maps.gstatic.com/mapfiles/place_api/icons/v1/png_71/restaurant-71.png', 'icon_background_color': '#FF9E67', 'icon_mask_base_uri': 'https://maps.gstatic.com/mapfiles/place_api/icons/v2/restaurant_pinlet', 'name': 'Meghana Foods', 'opening_hours': {'open_now': True}, 'photos': [{'height': 1536, 'html_attributions': ['<a href=\"https://maps.google.com/maps/contrib/102327111046291962102\">Meghana Foods</a>'], 'photo_reference': 'AWYs27zcSdVSN4vrnzQuPyTFQ5iZ0N32QeDv2z5YkhGpSOJFs-Sq8EsdLyD6ketv5Xa_rS27imMzgewjvTDwykFComKFbGk0wK6yAyihDH8NTSBa03dVyFjDIPn71_g3oZBo4FlhAI7z17VN0lJ3Knqdg-VwX-fKJTxtguYQ-6FlIOoZStgh', 'width': 2048}], 'place_id': 'ChIJDZDp46EVrjsRgObcqyJbfyA', 'plus_code': {'compound_code': 'WHGM+FR Bengaluru, Karnataka, India', 'global_code': '7J4VWHGM+FR'}, 'price_level': 2, 'rating': 4.3, 'reference': 'ChIJDZDp46EVrjsRgObcqyJbfyA', 'scope': 'GOOGLE', 'types': ['restaurant', 'point_of_interest', 'food', 'establishment'], 'user_ratings_total': 33165, 'vicinity': '52, 1st Floor, 33rd Cross Rd, near Cafe Coffee Day, 4th Block, Jayanagar, Bengaluru'}, {'business_status': 'OPERATIONAL', 'geometry': {'location': {'lat': 12.9728906, 'lng': 77.60923199999999}, 'viewport': {'northeast': {'lat': 12.97414237989272, 'lng': 77.61049942989273}, 'southwest': {'lat': 12.97144272010728, 'lng': 77.60779977010728}}}, 'icon': 'https://maps.gstatic.com/mapfiles/place_api/icons/v1/png_71/restaurant-71.png', 'icon_background_color': '#FF9E67', 'icon_mask_base_uri': 'https://maps.gstatic.com/mapfiles/place_api/icons/v2/restaurant_pinlet', 'name': 'Meghana Foods', 'opening_hours': {'open_now': True}, 'photos': [{'height': 4032, 'html_attributions': ['<a href=\"https://maps.google.com/maps/contrib/100856010404793349442\">100856010404793349442</a>'], 'photo_reference': 'AWYs27yXXTbX6Jcb9sEs8rB9xCXUABMG2SPavYFCtJxXPPIv8-Uqeanwz7qQu3JfvdP13NZ-X8ZGmtKSiX7gVR3TORUXuKvzEGPdRzxdUi35-PaQSpNrw3QdXzi2yTST1f38YAW9NjI17u7_-pQJ8S-IbSpcQMHi92lxflqDTsYeHfEqj7vy', 'width': 3024}], 'place_id': 'ChIJc8Zlt4AWrjsRrRLGcTlDaCQ', 'plus_code': {'compound_code': 'XJF5+5M Bengaluru, Karnataka, India', 'global_code': '7J4VXJF5+5M'}, 'price_level': 2, 'rating': 4.3, 'reference': 'ChIJc8Zlt4AWrjsRrRLGcTlDaCQ', 'scope': 'GOOGLE', 'types': ['restaurant', 'point_of_interest', 'food', 'establishment'], 'user_ratings_total': 20895, 'vicinity': '57/1, 1st, Jayalakshmi Chambers, Residency Rd, next to Old Galaxy Theatre, Ashok Nagar, Bengaluru'}, {'business_status': 'OPERATIONAL', 'geometry': {'location': {'lat': 12.9346193, 'lng': 77.6163924}, 'viewport': {'northeast': {'lat': 12.93593557989272, 'lng': 77.61768047989271}, 'southwest': {'lat': 12.93323592010728, 'lng': 77.61498082010728}}}, 'icon': 'https://maps.gstatic.com/mapfiles/place_api/icons/v1/png_71/restaurant-71.png', 'icon_background_color': '#FF9E67', 'icon_mask_base_uri': 'https://maps.gstatic.com/mapfiles/place_api/icons/v2/restaurant_pinlet', 'name': 'Meghana Foods - Koramangala', 'opening_hours': {'open_now': True}, 'photos': [{'height': 1080, 'html_attributions': ['<a href=\"https://maps.google.com/maps/contrib/113126686976258815225\">Turiya Ofcl</a>'], 'photo_reference': 'AWYs27wUq0jdfQdyvCDNZg8YvkukSsEBrAJzlXC5Ll17_XcKQiQLy5iYbn4_RwkNNqnjXs0lvIDoMGQEJ-DnekAzvachTIV8LWFygQMMx2FllNnVK8f5AZ4QIAWoJmazrjiSc-Jms8GXcWgWRgmT3dp--GImAPCGluqoRjiJfygW55pfpgKS', 'width': 1620}], 'place_id': 'ChIJCa2FK04UrjsRmBiq9ethY9s', 'plus_code': {'compound_code': 'WJM8+RH Bengaluru, Karnataka, India', 'global_code': '7J4VWJM8+RH'}, 'price_level': 2, 'rating': 4.3, 'reference': 'ChIJCa2FK04UrjsRmBiq9ethY9s', 'scope': 'GOOGLE', 'types': ['restaurant', 'point_of_interest', 'food', 'establishment'], 'user_ratings_total': 20814, 'vicinity': '124, 1st A cross Rd, near Jyoti Nivas College Road, KHB Colony, 5th Block, Koramangala, Bengaluru'}, {'business_status': 'OPERATIONAL', 'geometry': {'location': {'lat': 12.8855447, 'lng': 77.5964235}, 'viewport': {'northeast': {'lat': 12.88687912989272, 'lng': 77.59786037989272}, 'southwest': {'lat': 12.88417947010728, 'lng': 77.59516072010727}}}, 'icon': 'https://maps.gstatic.com/mapfiles/place_api/icons/v1/png_71/restaurant-71.png', 'icon_background_color': '#FF9E67', 'icon_mask_base_uri': 'https://maps.gstatic.com/mapfiles/place_api/icons/v2/restaurant_pinlet', 'name': 'Meghana Foods - Arekere', 'opening_hours': {'open_now': True}, 'photos': [{'height': 2986, 'html_attributions': ['<a href=\"https://maps.google.com/maps/contrib/100939484551621303827\">Thomas John</a>'], 'photo_reference': 'AWYs27xck9MJUbQw7k60KdhHC20fF5aCcauWreSHhOtkZSLUwqSPbPbUwKsOJARWtRdLlXvUAncEvf7vqfXRYwUArdkZbUXzAHGXKEGkdiIBD0m-gZbrpwlKaKaUROTNT6lliKg_FwcwT3Skp6hnqVRJWnU6P_rp8dKhVAagHSqYTuhCQSrV', 'width': 2296}], 'place_id': 'ChIJv0CosHRrrjsRHAa_dnSG9mE', 'plus_code': {'compound_code': 'VHPW+6H Bengaluru, Karnataka, India', 'global_code': '7J4VVHPW+6H'}, 'price_level': 2, 'rating': 3.5, 'reference': 'ChIJv0CosHRrrjsRHAa_dnSG9mE', 'scope': 'GOOGLE', 'types': ['restaurant', 'point_of_interest', 'food', 'establishment'], 'user_ratings_total': 267, 'vicinity': 'E1, 1/1, Survey 23/1, Arekere VIllage Begur Hobli, Bannerghatta Rd, Bengaluru'}, {'business_status': 'OPERATIONAL', 'geometry': {'location': {'lat': 12.9636702, 'lng': 77.5905532}, 'viewport': {'northeast': {'lat': 12.96503057989272, 'lng': 77.59190402989272}, 'southwest': {'lat': 12.96233092010728, 'lng': 77.58920437010727}}}, 'icon': 'https://maps.gstatic.com/mapfiles/place_api/icons/v1/png_71/restaurant-71.png', 'icon_background_color': '#FF9E67', 'icon_mask_base_uri': 'https://maps.gstatic.com/mapfiles/place_api/icons/v2/restaurant_pinlet', 'name': 'Meghana Mess (Aunty Mane Oota)', 'opening_hours': {'open_now': True}, 'photos': [{'height': 4032, 'html_attributions': ['<a href=\"https://maps.google.com/maps/contrib/116945362741143571634\">Pushparaj K</a>'], 'photo_reference': 'AWYs27wfTxOlKnWPV5P7LZCXPO4cMRZdY0FRV8_OpxytGh46RbRXhSMzfeusmx0jCTq4LOX2FnjK1VztS3ZhciRE8yW9PtDGB2bgtlpH7pg-n4Ms2qlj-Bk-vrWuC0TiQhf0Q6flUvx2z6t0f5B1chKWNZoiAipW2vxErr4vAj7WzD3yiE6S', 'width': 3024}], 'place_id': 'ChIJg65xA_cVrjsR81vZiE_9yHY', 'plus_code': {'compound_code': 'XH7R+F6 Bengaluru, Karnataka, India', 'global_code': '7J4VXH7R+F6'}, 'rating': 4.4, 'reference': 'ChIJg65xA_cVrjsR81vZiE_9yHY', 'scope': 'GOOGLE', 'types': ['restaurant', 'point_of_interest', 'food', 'establishment'], 'user_ratings_total': 401, 'vicinity': '18, 3, Sampangi Rama Nagara, Sampangi Rama Nagar, Bengaluru'}, {'business_status': 'CLOSED_TEMPORARILY', 'geometry': {'location': {'lat': 12.9188179, 'lng': 77.5438538}, 'viewport': {'northeast': {'lat': 12.92016572989272, 'lng': 77.54520147989271}, 'southwest': {'lat': 12.91746607010728, 'lng': 77.54250182010728}}}, 'icon': 'https://maps.gstatic.com/mapfiles/place_api/icons/v1/png_71/restaurant-71.png', 'icon_background_color': '#FF9E67', 'icon_mask_base_uri': 'https://maps.gstatic.com/mapfiles/place_api/icons/v2/restaurant_pinlet', 'name': 'Meghana Chicken Centre', 'permanently_closed': True, 'place_id': 'ChIJyex5Rcs_rjsRfG4NKI_Cu5U', 'rating': 5, 'reference': 'ChIJyex5Rcs_rjsRfG4NKI_Cu5U', 'scope': 'GOOGLE', 'types': ['restaurant', 'point_of_interest', 'food', 'establishment'], 'user_ratings_total': 4, 'vicinity': 'WG9V+GGG, 20th Cross Rd, Ittamadu, Banashankari 3rd Stage, Banashankari, Bengaluru'}, {'business_status': 'OPERATIONAL', 'geometry': {'location': {'lat': 12.9205645, 'lng': 77.61032519999999}, 'viewport': {'northeast': {'lat': 12.92190117989272, 'lng': 77.61166942989271}, 'southwest': {'lat': 12.91920152010728, 'lng': 77.60896977010728}}}, 'icon': 'https://maps.gstatic.com/mapfiles/place_api/icons/v1/png_71/restaurant-71.png', 'icon_background_color': '#FF9E67', 'icon_mask_base_uri': 'https://maps.gstatic.com/mapfiles/place_api/icons/v2/restaurant_pinlet', 'name': 'Meghana Hotel', 'opening_hours': {'open_now': True}, 'photos': [{'height': 4624, 'html_attributions': ['<a href=\"https://maps.google.com/maps/contrib/115120603880703666775\">ajay kumar</a>'], 'photo_reference': 'AWYs27w5nPDS5HV2jHnq8UMhSUEL1UAHYzf93xMofwhenyRvIWEUneusE4iRJCm3LYu6B9Lc8WpVf56nwo0WQP5IAsgC4kWzWEW0_mIydxr3jOje9HW0gTDndSzl-sOG1_zQIH4YIP443HAnbRFPtPutpuSzNLi2RuOaKAcQNJPQ7kWC7So', 'width': 3468}], 'place_id': 'ChIJ1wwgV94VrjsRKDSrhAuesi4', 'plus_code': {'compound_code': 'WJC6+64 Bengaluru, Karnataka, India', 'global_code': '7J4VWJC6+64'}, 'rating': 1.8, 'reference': 'ChIJ1wwgV94VrjsRKDSrhAuesi4', 'scope': 'GOOGLE', 'types': ['restaurant', 'point_of_interest', 'food', 'establishment'], 'user_ratings_total': 42, 'vicinity': '9th Cross Rd, Keb Layout, Narayan Gowda Layout, 1st Stage, BTM Layout, Bengaluru'}, {'business_status': 'OPERATIONAL', 'geometry': {'location': {'lat': 12.930197, 'lng': 77.5522695}, 'viewport': {'northeast': {'lat': 12.93153267989272, 'lng': 77.55361712989271}, 'southwest': {'lat': 12.92883302010728, 'lng': 77.55091747010728}}}, 'icon': 'https://maps.gstatic.com/mapfiles/place_api/icons/v1/png_71/restaurant-71.png', 'icon_background_color': '#FF9E67', 'icon_mask_base_uri': 'https://maps.gstatic.com/mapfiles/place_api/icons/v2/restaurant_pinlet', 'name': 'Meghana Food Corner', 'place_id': 'ChIJzUN_kts_rjsR-2BQCkNCF6I', 'rating': 3, 'reference': 'ChIJzUN_kts_rjsR-2BQCkNCF6I', 'scope': 'GOOGLE', 'types': ['restaurant', 'point_of_interest', 'food', 'establishment'], 'user_ratings_total': 1, 'vicinity': 'WHJ2+3WC, 4th Cross Rd, 4th Block, Banashankari 3rd Stage, Banashankari, Bengaluru'}, {'business_status': 'OPERATIONAL', 'geometry': {'location': {'lat': 12.9431357, 'lng': 77.6102365}, 'viewport': {'northeast': {'lat': 12.94449487989272, 'lng': 77.61158742989272}, 'southwest': {'lat': 12.94179522010728, 'lng': 77.60888777010729}}}, 'icon': 'https://maps.gstatic.com/mapfiles/place_api/icons/v1/png_71/cafe-71.png', 'icon_background_color': '#FF9E67', 'icon_mask_base_uri': 'https://maps.gstatic.com/mapfiles/place_api/icons/v2/cafe_pinlet', 'name': 'Meghana Foods and', 'place_id': 'ChIJrZLEcQAVrjsRmF54UEYSa1Y', 'rating': 5, 'reference': 'ChIJrZLEcQAVrjsRmF54UEYSa1Y', 'scope': 'GOOGLE', 'types': ['cafe', 'store', 'point_of_interest', 'food', 'establishment'], 'user_ratings_total': 1, 'vicinity': 'WJV6+739, Balappa Layout, AK Colony, Adugodi, Bengaluru'}, {'business_status': 'OPERATIONAL', 'geometry': {'location': {'lat': 12.956756, 'lng': 77.5589511}, 'viewport': {'northeast': {'lat': 12.95805692989272, 'lng': 77.56033322989273}, 'southwest': {'lat': 12.95535727010728, 'lng': 77.55763357010728}}}, 'icon': 'https://maps.gstatic.com/mapfiles/place_api/icons/v1/png_71/restaurant-71.png', 'icon_background_color': '#FF9E67', 'icon_mask_base_uri': 'https://maps.gstatic.com/mapfiles/place_api/icons/v2/restaurant_pinlet', 'name': 'Meghana Chicken Centre', 'place_id': 'ChIJQWSaAQM-rjsRjAG3rJ5DL_g', 'plus_code': {'compound_code': 'XH45+PH Bengaluru, Karnataka, India', 'global_code': '7J4VXH45+PH'}, 'rating': 4, 'reference': 'ChIJQWSaAQM-rjsRjAG3rJ5DL_g', 'scope': 'GOOGLE', 'types': ['restaurant', 'point_of_interest', 'food', 'establishment'], 'user_ratings_total': 3, 'vicinity': 'No 74/3, T R mill circle, 8th Main Rd, Ramachandra Agrahara, Azad Nagar, Bengaluru'}, {'business_status': 'OPERATIONAL', 'geometry': {'location': {'lat': 12.9338256, 'lng': 77.6177349}, 'viewport': {'northeast': {'lat': 12.93512902989272, 'lng': 77.61906572989272}, 'southwest': {'lat': 12.93242937010728, 'lng': 77.61636607010728}}}, 'icon': 'https://maps.gstatic.com/mapfiles/place_api/icons/v1/png_71/restaurant-71.png', 'icon_background_color': '#FF9E67', 'icon_mask_base_uri': 'https://maps.gstatic.com/mapfiles/place_api/icons/v2/restaurant_pinlet', 'name': 'Narmada Chain Of Restaurant [Koramangala]', 'opening_hours': {'open_now': True}, 'photos': [{'height': 2624, 'html_attributions': ['<a href=\"https://maps.google.com/maps/contrib/108491194915236415269\">A Google User</a>'], 'photo_reference': 'AWYs27wFIUFn2_zTZbNartdh0etbs7W-7cxli_MdQls3XjuefeFzF9hLCPcKwvzespxBGXanh5KCyBfg05Q4iz8ZobxKIkwKnV2djHvwsXNjKjP9UA_1_2qgDxSnimWiJ2Djb0sZhFMbH6gExmM2dgxCzxfMBktvY1KxBtD049MkBGmFB9W-', 'width': 3936}], 'place_id': 'ChIJVxlbHwsVrjsRxPPTIzrmEtE', 'plus_code': {'compound_code': 'WJM9+G3 Bengaluru, Karnataka, India', 'global_code': '7J4VWJM9+G3'}, 'price_level': 2, 'rating': 4.4, 'reference': 'ChIJVxlbHwsVrjsRxPPTIzrmEtE', 'scope': 'GOOGLE', 'types': ['restaurant', 'point_of_interest', 'food', 'establishment'], 'user_ratings_total': 2047, 'vicinity': '60 Feet Rd, KHB Colony, 5th Block, Koramangala, Bengaluru'}, {'business_status': 'OPERATIONAL', 'geometry': {'location': {'lat': 12.9178213, 'lng': 77.59254109999999}, 'viewport': {'northeast': {'lat': 12.91917007989272, 'lng': 77.59392092989273}, 'southwest': {'lat': 12.91647042010728, 'lng': 77.59122127010728}}}, 'icon': 'https://maps.gstatic.com/mapfiles/place_api/icons/v1/png_71/restaurant-71.png', 'icon_background_color': '#FF9E67', 'icon_mask_base_uri': 'https://maps.gstatic.com/mapfiles/place_api/icons/v2/restaurant_pinlet', 'name': 'Shanmukha Restaurant - Jayanagar 9th Block', 'opening_hours': {'open_now': True}, 'photos': [{'height': 3744, 'html_attributions': ['<a href=\"https://maps.google.com/maps/contrib/108412050435633968455\">Ananya Dutta</a>'], 'photo_reference': 'AWYs27zTaqYhj48tvBsQWI8nbwT1HoDo3hKja86ud4YITQa8c-AFgVO67IdHKhSioysYUqkT4ItZwG91F2LfD0hEQkClxnNX9sSxVneEphSXT7yZsPivwBdCN5V-a5TGkJJbY_e6duudu4bwzrEQ-R7fRg4wRS1_GxRl_bXpV15wRPNgX-Ju', 'width': 3008}], 'place_id': 'ChIJQ7AjpgkVrjsRDDHo1GkeG60', 'plus_code': {'compound_code': 'WH9V+42 Bengaluru, Karnataka, India', 'global_code': '7J4VWH9V+42'}, 'price_level': 2, 'rating': 4.1, 'reference': 'ChIJQ7AjpgkVrjsRDDHo1GkeG60', 'scope': 'GOOGLE', 'types': ['restaurant', 'point_of_interest', 'food', 'establishment'], 'user_ratings_total': 5117, 'vicinity': '1313, 25th Main Rd, near Bangalore Central Mall, Kottapalya, Jayanagara 9th Block, Jayanagar, Bengaluru'}, {'business_status': 'OPERATIONAL', 'geometry': {'location': {'lat': 12.9261792, 'lng': 77.58475659999999}, 'viewport': {'northeast': {'lat': 12.92761102989272, 'lng': 77.58610802989273}, 'southwest': {'lat': 12.92491137010728, 'lng': 77.58340837010728}}}, 'icon': 'https://maps.gstatic.com/mapfiles/place_api/icons/v1/png_71/restaurant-71.png', 'icon_background_color': '#FF9E67', 'icon_mask_base_uri': 'https://maps.gstatic.com/mapfiles/place_api/icons/v2/restaurant_pinlet', 'name': 'Donne Biryani Palace', 'opening_hours': {'open_now': True}, 'photos': [{'height': 1200, 'html_attributions': ['<a href=\"https://maps.google.com/maps/contrib/102356348590240661721\">Donne Biryani Palace</a>'], 'photo_reference': 'AWYs27zOBmu5mxGy1hhD7hauuzo4wMCplT8YlW06k2i0R1Td4yR-XHjTpWxq7DLXZ53Te6qDEuxCrX8WcyDwjFFrofOUlJpFgIvL7IYMs_EDg6PPMzkqyeUT-jxIe1rP-ZH2Px08SHtfgynKBmPyCHLsBCYFpsfMFxLPb4k62TdavcGfs2fv', 'width': 1600}], 'place_id': 'ChIJ30nUDuAVrjsRfOOoIoR_GpM', 'plus_code': {'compound_code': 'WHGM+FW Bengaluru, Karnataka, India', 'global_code': '7J4VWHGM+FW'}, 'rating': 3.9, 'reference': 'ChIJ30nUDuAVrjsRfOOoIoR_GpM', 'scope': 'GOOGLE', 'types': ['restaurant', 'point_of_interest', 'food', 'establishment'], 'user_ratings_total': 388, 'vicinity': '1st floor, 744/51, 33rd cross, 10th Main Rd, corner, 4th Block, Jayanagar, Bengaluru'}, {'business_status': 'OPERATIONAL', 'geometry': {'location': {'lat': 12.9114889, 'lng': 77.6001472}, 'viewport': {'northeast': {'lat': 12.91283417989272, 'lng': 77.60145372989273}, 'southwest': {'lat': 12.91013452010728, 'lng': 77.59875407010728}}}, 'icon': 'https://maps.gstatic.com/mapfiles/place_api/icons/v1/png_71/restaurant-71.png', 'icon_background_color': '#FF9E67', 'icon_mask_base_uri': 'https://maps.gstatic.com/mapfiles/place_api/icons/v2/restaurant_pinlet', 'name': 'Narmada Restaurant Bannerghatta', 'opening_hours': {'open_now': True}, 'photos': [{'height': 3024, 'html_attributions': ['<a href=\"https://maps.google.com/maps/contrib/110604945618596658987\">Ananth Kannan</a>'], 'photo_reference': 'AWYs27zCQAPLCcGJbO0MRmGgICx3WBQkIwrXcZ7SzevEo3CXU7DSUVvR00mRrIZCx2dOp7UlBkvrh6Swtk7LJ_iF69JooK4RXDASltj6RkHIQ7MGAcct3ySt5zEvnvCumzfSgk8lgLNGa3zTFBuYKCouJpWuaNJMXPWNoYmxB_BDrPvZZQsL', 'width': 4032}], 'place_id': 'ChIJ96qrVtoVrjsRhND9ZkxHEVw', 'plus_code': {'compound_code': 'WJ62+H3 Bengaluru, Karnataka, India', 'global_code': '7J4VWJ62+H3'}, 'rating': 4.4, 'reference': 'ChIJ96qrVtoVrjsRhND9ZkxHEVw', 'scope': 'GOOGLE', 'types': ['restaurant', 'point_of_interest', 'food', 'establishment'], 'user_ratings_total': 682, 'vicinity': 'No. 193/4A, 193/4B, Bannerghatta Rd, NS Palya, BTM 2nd Stage, BTM Layout, Bengaluru'}, {'business_status': 'OPERATIONAL', 'geometry': {'location': {'lat': 12.9366053, 'lng': 77.6083625}, 'viewport': {'northeast': {'lat': 12.93792407989272, 'lng': 77.60969562989273}, 'southwest': {'lat': 12.93522442010728, 'lng': 77.60699597010728}}}, 'icon': 'https://maps.gstatic.com/mapfiles/place_api/icons/v1/png_71/restaurant-71.png', 'icon_background_color': '#FF9E67', 'icon_mask_base_uri': 'https://maps.gstatic.com/mapfiles/place_api/icons/v2/restaurant_pinlet', 'name': \"Polamma's Mess (Opp. Christ College)\", 'opening_hours': {'open_now': True}, 'photos': [{'height': 3024, 'html_attributions': ['<a href=\"https://maps.google.com/maps/contrib/104807866164807350628\">Koushik Tamil Maran</a>'], 'photo_reference': 'AWYs27ygymDG6-OKF_axFnKkO6xsh7pnlokeNEfaMEtV0pHFjABknKfCWlKdgD-inKhll_QL3bTbVEhkl5I8rzODxqnc-47v3XhW8aNgVeUsiKuD51XqquKw8tdee8pYsnkc74R68n1-QOx5uar9dKIsbGhVNaRu2EhMbhm8EagreGDGDQm4', 'width': 4032}], 'place_id': 'ChIJ5atUKE0UrjsRzM-czHDRIj8', 'plus_code': {'compound_code': 'WJP5+J8 Bengaluru, Karnataka, India', 'global_code': '7J4VWJP5+J8'}, 'price_level': 2, 'rating': 4.2, 'reference': 'ChIJ5atUKE0UrjsRzM-czHDRIj8', 'scope': 'GOOGLE', 'types': ['restaurant', 'point_of_interest', 'food', 'establishment'], 'user_ratings_total': 3612, 'vicinity': '67/1, 2nd Cross Rd, Chikku Lakshmaiah Layout, Adugodi, Bengaluru'}, {'business_status': 'OPERATIONAL', 'geometry': {'location': {'lat': 12.8902947, 'lng': 77.5990391}, 'viewport': {'northeast': {'lat': 12.89165262989272, 'lng': 77.60034532989273}, 'southwest': {'lat': 12.88895297010728, 'lng': 77.59764567010728}}}, 'icon': 'https://maps.gstatic.com/mapfiles/place_api/icons/v1/png_71/restaurant-71.png', 'icon_background_color': '#FF9E67', 'icon_mask_base_uri': 'https://maps.gstatic.com/mapfiles/place_api/icons/v2/restaurant_pinlet', 'name': 'Hyderabad Biryaani House', 'opening_hours': {'open_now': True}, 'photos': [{'height': 4624, 'html_attributions': ['<a href=\"https://maps.google.com/maps/contrib/104349406515195846327\">keshav reddy</a>'], 'photo_reference': 'AWYs27zRC1EUG9JDX0nZxoxBcFT_R1itWNYFzjJIdlUuTIUWTk2tMA3N6yc8K3Cab-5BJU1YQ5NR3jsJOYtV644DNWpdvx3-0vCjea4Y8u9kgUGIzier0kF8l_CBgVuMJGl0Yh78ff4XsPlhzdu7egbzgzN97pkUYpwBO7tYqN0plTHix7sy', 'width': 3468}], 'place_id': 'ChIJH8gS_SQVrjsRh9Mj1dJex7A', 'plus_code': {'compound_code': 'VHRX+4J Bengaluru, Karnataka, India', 'global_code': '7J4VVHRX+4J'}, 'price_level': 2, 'rating': 3.8, 'reference': 'ChIJH8gS_SQVrjsRh9Mj1dJex7A', 'scope': 'GOOGLE', 'types': ['restaurant', 'point_of_interest', 'food', 'establishment'], 'user_ratings_total': 2014, 'vicinity': 'A2 148/1, Bannerghatta Rd, Arakere Gate, Sarvobhogam Nagar, Arekere, Bengaluru'}], 'status': 'OK'}\n"
          ]
        }
      ],
      "source": [
        "# for Google Maps API we need to use a radius in meters. Let's first change our miles to meters\n",
        "def miles_to_meters(miles):\n",
        "    return miles * 1609.344\n",
        "\n",
        "\n",
        "middle_of_west_village = (12.930754725256351, 77.58407648670097)\n",
        "search_radius = miles_to_meters(\n",
        "    3.10686\n",
        ")  # West Village is small so just do less than half a mile.\n",
        "spritz_finder = \"meghana foods\"\n",
        "\n",
        "# making the API call using our places_nearby method and our parameters\n",
        "response = map_client.places_nearby(\n",
        "    location=middle_of_west_village, radius=search_radius, keyword=spritz_finder\n",
        ")\n",
        "\n",
        "print(response)"
      ]
    },
    {
      "cell_type": "markdown",
      "metadata": {
        "id": "DD6xRtVvAhW7"
      },
      "source": [
        "Before we can go ahead and print out our locations, let's think about our end goal. We want to achieve a couple of things before we insert our documents into our MongoDB Atlas cluster. We want to:\n",
        "1. Get detailed information about our locations, so we need to make another API call to get our `place_id`, the location `name`, our `formatted_address`, the `geometry`, some `reviews` (only up to 5), and the location `rating`. You can find more fields to return (if your heart desires!) from the [Nearby Search documentation](https://developers.google.com/maps/documentation/places/web-service/search-nearby)\n",
        "\n",
        "2. Then, we want to embed our reviews for each location using our embedding function. We want to make sure that we have a field for these so our vectors are stored in an array inside of our cluster. We are choosing to embed here just to make things easier for ourselves in the long run. Let's also join all the five reviews together into one string to make things a bit easier on ourselves with the embedding.\n",
        "\n",
        "3. While we're creating our dictionary with all the important information we want to portray, we need to think about how our coordinates are set up. MongoDB Geospatial Queries requires GeoJSON format. This means we need to make sure we have the proper format, or else we won't be able to use our Geospatial Queries operators later. We also need to keep in mind that the longitude and latitude is stored in a nested array underneath geometry and location inside of our Google Places API. So, we unfortunatly can't just access it out, we need to work some magic first. Here is an example output of what I copied from the documentation:\n",
        "```\n",
        "{\n",
        "  \"html_attributions\": [],\n",
        "  \"results\":\n",
        "    [\n",
        "      {\n",
        "        \"business_status\": \"OPERATIONAL\",\n",
        "        \"geometry\":\n",
        "          {\n",
        "            \"location\": { \"lat\": -33.8587323, \"lng\": 151.2100055 },\n",
        "            \"viewport\":\n",
        "              {\n",
        "                \"northeast\":\n",
        "                  { \"lat\": -33.85739847010727, \"lng\": 151.2112436298927 },\n",
        "                \"southwest\":\n",
        "                  { \"lat\": -33.86009812989271, \"lng\": 151.2085439701072 },\n",
        "              },\n",
        "\n",
        "```\n",
        "\n",
        "With all this in mind, let's get to it:"
      ]
    },
    {
      "cell_type": "code",
      "execution_count": 50,
      "metadata": {
        "id": "-IzRFK3lCqBi",
        "outputId": "8a024a94-5c01-4ae5-ba16-eb5d01c407cc",
        "colab": {
          "base_uri": "https://localhost:8080/"
        }
      },
      "outputs": [
        {
          "output_type": "stream",
          "name": "stdout",
          "text": [
            "Ratings , 4.3\n"
          ]
        },
        {
          "output_type": "stream",
          "name": "stderr",
          "text": [
            "The tokenizer class you load from this checkpoint is not the same type as the class this function is called from. It may result in unexpected tokenization. \n",
            "The tokenizer class you load from this checkpoint is 'GPT4Tokenizer'. \n",
            "The class this function is called from is 'GPT2TokenizerFast'.\n"
          ]
        },
        {
          "output_type": "stream",
          "name": "stdout",
          "text": [
            "Ratings , 4.3\n"
          ]
        },
        {
          "output_type": "stream",
          "name": "stderr",
          "text": [
            "The tokenizer class you load from this checkpoint is not the same type as the class this function is called from. It may result in unexpected tokenization. \n",
            "The tokenizer class you load from this checkpoint is 'GPT4Tokenizer'. \n",
            "The class this function is called from is 'GPT2TokenizerFast'.\n"
          ]
        },
        {
          "output_type": "stream",
          "name": "stdout",
          "text": [
            "Ratings , 4.3\n"
          ]
        },
        {
          "output_type": "stream",
          "name": "stderr",
          "text": [
            "The tokenizer class you load from this checkpoint is not the same type as the class this function is called from. It may result in unexpected tokenization. \n",
            "The tokenizer class you load from this checkpoint is 'GPT4Tokenizer'. \n",
            "The class this function is called from is 'GPT2TokenizerFast'.\n",
            "The tokenizer class you load from this checkpoint is not the same type as the class this function is called from. It may result in unexpected tokenization. \n",
            "The tokenizer class you load from this checkpoint is 'GPT4Tokenizer'. \n",
            "The class this function is called from is 'GPT2TokenizerFast'.\n"
          ]
        },
        {
          "output_type": "stream",
          "name": "stdout",
          "text": [
            "Ratings , 3.5\n",
            "Ratings , 4.4\n"
          ]
        },
        {
          "output_type": "stream",
          "name": "stderr",
          "text": [
            "The tokenizer class you load from this checkpoint is not the same type as the class this function is called from. It may result in unexpected tokenization. \n",
            "The tokenizer class you load from this checkpoint is 'GPT4Tokenizer'. \n",
            "The class this function is called from is 'GPT2TokenizerFast'.\n",
            "The tokenizer class you load from this checkpoint is not the same type as the class this function is called from. It may result in unexpected tokenization. \n",
            "The tokenizer class you load from this checkpoint is 'GPT4Tokenizer'. \n",
            "The class this function is called from is 'GPT2TokenizerFast'.\n"
          ]
        },
        {
          "output_type": "stream",
          "name": "stdout",
          "text": [
            "Ratings , 5\n"
          ]
        },
        {
          "output_type": "stream",
          "name": "stderr",
          "text": [
            "The tokenizer class you load from this checkpoint is not the same type as the class this function is called from. It may result in unexpected tokenization. \n",
            "The tokenizer class you load from this checkpoint is 'GPT4Tokenizer'. \n",
            "The class this function is called from is 'GPT2TokenizerFast'.\n"
          ]
        },
        {
          "output_type": "stream",
          "name": "stdout",
          "text": [
            "Ratings , 1.8\n",
            "Ratings , 3\n"
          ]
        },
        {
          "output_type": "stream",
          "name": "stderr",
          "text": [
            "The tokenizer class you load from this checkpoint is not the same type as the class this function is called from. It may result in unexpected tokenization. \n",
            "The tokenizer class you load from this checkpoint is 'GPT4Tokenizer'. \n",
            "The class this function is called from is 'GPT2TokenizerFast'.\n"
          ]
        },
        {
          "output_type": "stream",
          "name": "stdout",
          "text": [
            "Ratings , 5\n"
          ]
        },
        {
          "output_type": "stream",
          "name": "stderr",
          "text": [
            "The tokenizer class you load from this checkpoint is not the same type as the class this function is called from. It may result in unexpected tokenization. \n",
            "The tokenizer class you load from this checkpoint is 'GPT4Tokenizer'. \n",
            "The class this function is called from is 'GPT2TokenizerFast'.\n"
          ]
        },
        {
          "output_type": "stream",
          "name": "stdout",
          "text": [
            "Ratings , 4\n"
          ]
        },
        {
          "output_type": "stream",
          "name": "stderr",
          "text": [
            "The tokenizer class you load from this checkpoint is not the same type as the class this function is called from. It may result in unexpected tokenization. \n",
            "The tokenizer class you load from this checkpoint is 'GPT4Tokenizer'. \n",
            "The class this function is called from is 'GPT2TokenizerFast'.\n"
          ]
        },
        {
          "output_type": "stream",
          "name": "stdout",
          "text": [
            "Ratings , 4.4\n"
          ]
        },
        {
          "output_type": "stream",
          "name": "stderr",
          "text": [
            "The tokenizer class you load from this checkpoint is not the same type as the class this function is called from. It may result in unexpected tokenization. \n",
            "The tokenizer class you load from this checkpoint is 'GPT4Tokenizer'. \n",
            "The class this function is called from is 'GPT2TokenizerFast'.\n"
          ]
        },
        {
          "output_type": "stream",
          "name": "stdout",
          "text": [
            "Ratings , 4.1\n"
          ]
        },
        {
          "output_type": "stream",
          "name": "stderr",
          "text": [
            "The tokenizer class you load from this checkpoint is not the same type as the class this function is called from. It may result in unexpected tokenization. \n",
            "The tokenizer class you load from this checkpoint is 'GPT4Tokenizer'. \n",
            "The class this function is called from is 'GPT2TokenizerFast'.\n",
            "The tokenizer class you load from this checkpoint is not the same type as the class this function is called from. It may result in unexpected tokenization. \n",
            "The tokenizer class you load from this checkpoint is 'GPT4Tokenizer'. \n",
            "The class this function is called from is 'GPT2TokenizerFast'.\n"
          ]
        },
        {
          "output_type": "stream",
          "name": "stdout",
          "text": [
            "Ratings , 3.9\n"
          ]
        },
        {
          "output_type": "stream",
          "name": "stderr",
          "text": [
            "The tokenizer class you load from this checkpoint is not the same type as the class this function is called from. It may result in unexpected tokenization. \n",
            "The tokenizer class you load from this checkpoint is 'GPT4Tokenizer'. \n",
            "The class this function is called from is 'GPT2TokenizerFast'.\n"
          ]
        },
        {
          "output_type": "stream",
          "name": "stdout",
          "text": [
            "Ratings , 4.4\n",
            "Ratings , 4.2\n"
          ]
        },
        {
          "output_type": "stream",
          "name": "stderr",
          "text": [
            "The tokenizer class you load from this checkpoint is not the same type as the class this function is called from. It may result in unexpected tokenization. \n",
            "The tokenizer class you load from this checkpoint is 'GPT4Tokenizer'. \n",
            "The class this function is called from is 'GPT2TokenizerFast'.\n",
            "The tokenizer class you load from this checkpoint is not the same type as the class this function is called from. It may result in unexpected tokenization. \n",
            "The tokenizer class you load from this checkpoint is 'GPT4Tokenizer'. \n",
            "The class this function is called from is 'GPT2TokenizerFast'.\n"
          ]
        },
        {
          "output_type": "stream",
          "name": "stdout",
          "text": [
            "Ratings , 3.8\n"
          ]
        }
      ],
      "source": [
        "# find information we want: use the Nearby Places documentation to figure out which fields you want\n",
        "spritz_locations = []\n",
        "for location in response.get(\"results\", []):\n",
        "    location_detail = map_client.place(\n",
        "        place_id=location[\"place_id\"],\n",
        "        fields=[\"name\", \"formatted_address\", \"geometry\", \"reviews\", \"rating\"],\n",
        "    )\n",
        "\n",
        "    # these are the specific details we want to be saved as fields in our documents\n",
        "    details = location_detail.get(\"result\", {})\n",
        "\n",
        "    # we want to embed the five reviews so lets extract and join together\n",
        "    location_rating = details.get(\"rating\", [])\n",
        "    print(f\"Ratings , {location_rating}\")\n",
        "\n",
        "    # generate embedding on your reviews\n",
        "    embedding_ratings = get_embedding(location_rating)\n",
        "\n",
        "    # MongoDB geospatial queries require GeoJSON formatting. We know that the longitute and latitude is nested inside Geometry and Location.\n",
        "    # so let's grab it using .get and then format it how we want.\n",
        "    geometry = details.get(\"geometry\", {})\n",
        "    location = geometry.get(\"location\", {})\n",
        "\n",
        "    # both are nested under location so open it up\n",
        "    longitute = location.get(\"lng\")\n",
        "    latitude = location.get(\"lat\")\n",
        "\n",
        "    location_info = {\n",
        "        \"name\": details.get(\"name\"),\n",
        "        \"address\": details.get(\"formatted_address\"),\n",
        "        # MongoDB geospatial queries require GeoJSON formatting\n",
        "        \"location\": {\"type\": \"Point\", \"coordinates\": [longitute, latitude]},\n",
        "        \"rating\": location_rating,\n",
        "        \"embedding\": embedding_ratings,\n",
        "    }\n",
        "    spritz_locations.append(location_info)"
      ]
    },
    {
      "cell_type": "markdown",
      "metadata": {
        "id": "4ynVSEdvEFLE"
      },
      "source": [
        "Let's print out our output and see what our spritz locations in the West Village neighborhood of NYC are! Let's also check and make sure we can see an embedding field."
      ]
    },
    {
      "cell_type": "code",
      "execution_count": 68,
      "metadata": {
        "colab": {
          "base_uri": "https://localhost:8080/"
        },
        "id": "m1yGMa7gEKge",
        "outputId": "4e24a750-ab42-44e6-f96a-8edc9d4c11af"
      },
      "outputs": [
        {
          "output_type": "stream",
          "name": "stdout",
          "text": [
            "{'name': 'Meghana Foods', 'address': '52, 1st Floor, 33rd Cross Rd, near Cafe Coffee Day, 4th Block, Jayanagar, Bengaluru, Karnataka 560011, India', 'location': {'type': 'Point', 'coordinates': [77.5845779, 12.9262322]}, 'rating': 4.3, 'embedding': [15339, 1917], '_id': ObjectId('677bd035f5c4a49503a6e539')}\n",
            "{'name': 'Meghana Foods', 'address': '57/1, 1st, Jayalakshmi Chambers, Residency Rd, next to Old Galaxy Theatre, Ashok Nagar, Bengaluru, Karnataka 560025, India', 'location': {'type': 'Point', 'coordinates': [77.60923199999999, 12.9728906]}, 'rating': 4.3, 'embedding': [15339, 1917], '_id': ObjectId('677bd035f5c4a49503a6e53a')}\n",
            "{'name': 'Meghana Foods - Koramangala', 'address': '124, 1st A cross Rd, near Jyoti Nivas College Road, KHB Colony, 5th Block, Koramangala, Bengaluru, Karnataka 560095, India', 'location': {'type': 'Point', 'coordinates': [77.6163924, 12.9346193]}, 'rating': 4.3, 'embedding': [15339, 1917], '_id': ObjectId('677bd035f5c4a49503a6e53b')}\n",
            "{'name': 'Meghana Foods - Arekere', 'address': 'E1, 1/1, Survey 23/1, Arekere VIllage Begur Hobli, Bannerghatta Rd, Omkar Nagar, Arekere, Bengaluru, Karnataka 560076, India', 'location': {'type': 'Point', 'coordinates': [77.5964235, 12.8855447]}, 'rating': 3.5, 'embedding': [15339, 1917], '_id': ObjectId('677bd035f5c4a49503a6e53c')}\n",
            "{'name': 'Meghana Mess (Aunty Mane Oota)', 'address': '18, 3, Sampangi Rama Nagara, Sampangi Rama Nagar, Bengaluru, Karnataka 560002, India', 'location': {'type': 'Point', 'coordinates': [77.590553, 12.963669]}, 'rating': 4.4, 'embedding': [15339, 1917], '_id': ObjectId('677bd035f5c4a49503a6e53d')}\n",
            "{'name': 'Meghana Chicken Centre', 'address': 'WG9V+GGG, 20th Cross Rd, Ittamadu, Banashankari 3rd Stage, Banashankari, Bengaluru, Karnataka 560085, India', 'location': {'type': 'Point', 'coordinates': [77.5438278, 12.9188174]}, 'rating': 5, 'embedding': [15339, 1917], '_id': ObjectId('677bd035f5c4a49503a6e53e')}\n",
            "{'name': 'Meghana Hotel', 'address': '9th Cross Rd, Tavarekere, Narayan Gowda Layout, 1st Stage, BTM Layout, Bengaluru, Karnataka 560026, India', 'location': {'type': 'Point', 'coordinates': [77.6103248, 12.9205634]}, 'rating': 1.8, 'embedding': [15339, 1917], '_id': ObjectId('677bd035f5c4a49503a6e53f')}\n",
            "{'name': 'Meghana Food Corner', 'address': 'WHJ2+3WC, 4th Cross Rd, 4th Block, Banashankari 3rd Stage, Banashankari, Bengaluru, Karnataka 560085, India', 'location': {'type': 'Point', 'coordinates': [77.5522695, 12.930197]}, 'rating': 3, 'embedding': [15339, 1917], '_id': ObjectId('677bd035f5c4a49503a6e540')}\n",
            "{'name': 'Meghana Foods and', 'address': 'WJV6+739, Balappa Layout, AK Colony, Adugodi, Bengaluru, Karnataka 560030, India', 'location': {'type': 'Point', 'coordinates': [77.6102392, 12.9431525]}, 'rating': 5, 'embedding': [15339, 1917], '_id': ObjectId('677bd035f5c4a49503a6e541')}\n",
            "{'name': 'Meghana Chicken Centre', 'address': 'No 74/3, T R mill circle, 8th Main Rd, Ramachandra Agrahara, Azad Nagar, Bengaluru, Karnataka 560026, India', 'location': {'type': 'Point', 'coordinates': [77.5589511, 12.9567541]}, 'rating': 4, 'embedding': [15339, 1917], '_id': ObjectId('677bd035f5c4a49503a6e542')}\n",
            "{'name': 'Narmada Chain Of Restaurant [Koramangala]', 'address': '60 Feet Rd, KHB Colony, 5th Block, Koramangala, Bengaluru, Karnataka 560095, India', 'location': {'type': 'Point', 'coordinates': [77.6177349, 12.9338256]}, 'rating': 4.4, 'embedding': [15339, 1917], '_id': ObjectId('677bd035f5c4a49503a6e543')}\n",
            "{'name': 'Shanmukha Restaurant - Jayanagar 9th Block', 'address': '1313, 25th Main Rd, near Bangalore Central Mall, Kottapalya, Jayanagara 9th Block, Jayanagar, Bengaluru, Karnataka 560041, India', 'location': {'type': 'Point', 'coordinates': [77.59254109999999, 12.9178213]}, 'rating': 4.1, 'embedding': [15339, 1917], '_id': ObjectId('677bd035f5c4a49503a6e544')}\n",
            "{'name': 'Donne Biryani Palace', 'address': '744/51, 33rd cross, 1st floor, 10th Main Rd, corner, 4th Block, Jayanagar, Bengaluru, Karnataka 560011, India', 'location': {'type': 'Point', 'coordinates': [77.58475659999999, 12.9261792]}, 'rating': 3.9, 'embedding': [15339, 1917], '_id': ObjectId('677bd035f5c4a49503a6e545')}\n",
            "{'name': 'Narmada Restaurant Bannerghatta', 'address': 'No. 193/4A, 193/4B, Bannerghatta Rd, NS Palya, BTM 2nd Stage, BTM Layout, Bengaluru, Karnataka 560076, India', 'location': {'type': 'Point', 'coordinates': [77.6001472, 12.9114889]}, 'rating': 4.4, 'embedding': [15339, 1917], '_id': ObjectId('677bd035f5c4a49503a6e546')}\n",
            "{'name': \"Polamma's Mess (Opp. Christ College)\", 'address': '67/1, 2nd Cross Rd, Chikku Lakshmaiah Layout, Adugodi, Bengaluru, Karnataka 560029, India', 'location': {'type': 'Point', 'coordinates': [77.6083625, 12.9366053]}, 'rating': 4.2, 'embedding': [15339, 1917], '_id': ObjectId('677bd035f5c4a49503a6e547')}\n",
            "{'name': 'Hyderabad Biryaani House', 'address': 'A2 148/1, Bannerghatta Rd, Arakere Gate, Sarvobhogam Nagar, Arekere, Bengaluru, Karnataka 560076, India', 'location': {'type': 'Point', 'coordinates': [77.5990391, 12.8902947]}, 'rating': 3.8, 'embedding': [15339, 1917], '_id': ObjectId('677bd035f5c4a49503a6e548')}\n"
          ]
        }
      ],
      "source": [
        "# Print our spritz information\n",
        "for location in spritz_locations:\n",
        "  print(location)\n",
        "    # print(\n",
        "    #     f\"Name: {location['name']}, Address: {location['address']}, Coordinates: {location['location']}, Rating: {location['rating']}, Embedding: {location['embedding']}\"\n",
        "    # )"
      ]
    },
    {
      "cell_type": "markdown",
      "metadata": {
        "id": "WeQGl88VGHQD"
      },
      "source": [
        "Now that we have our documents formatted the way we want them to be, let's insert everything into MongoDB Atlas using the `pymongo` library.\n",
        "\n",
        "First, let's install `pymongo`"
      ]
    },
    {
      "cell_type": "code",
      "execution_count": 47,
      "metadata": {
        "colab": {
          "base_uri": "https://localhost:8080/"
        },
        "id": "gnm3ZQtOGPcX",
        "outputId": "b44829a8-d5d1-48d3-c048-8d17c8ccc489"
      },
      "outputs": [
        {
          "output_type": "stream",
          "name": "stdout",
          "text": [
            "Collecting pymongo\n",
            "  Downloading pymongo-4.10.1-cp310-cp310-manylinux_2_17_x86_64.manylinux2014_x86_64.whl.metadata (22 kB)\n",
            "Collecting dnspython<3.0.0,>=1.16.0 (from pymongo)\n",
            "  Downloading dnspython-2.7.0-py3-none-any.whl.metadata (5.8 kB)\n",
            "Downloading pymongo-4.10.1-cp310-cp310-manylinux_2_17_x86_64.manylinux2014_x86_64.whl (1.4 MB)\n",
            "\u001b[2K   \u001b[90m━━━━━━━━━━━━━━━━━━━━━━━━━━━━━━━━━━━━━━━━\u001b[0m \u001b[32m1.4/1.4 MB\u001b[0m \u001b[31m17.0 MB/s\u001b[0m eta \u001b[36m0:00:00\u001b[0m\n",
            "\u001b[?25hDownloading dnspython-2.7.0-py3-none-any.whl (313 kB)\n",
            "\u001b[2K   \u001b[90m━━━━━━━━━━━━━━━━━━━━━━━━━━━━━━━━━━━━━━━━\u001b[0m \u001b[32m313.6/313.6 kB\u001b[0m \u001b[31m22.3 MB/s\u001b[0m eta \u001b[36m0:00:00\u001b[0m\n",
            "\u001b[?25hInstalling collected packages: dnspython, pymongo\n",
            "Successfully installed dnspython-2.7.0 pymongo-4.10.1\n"
          ]
        }
      ],
      "source": [
        "# install pymongo\n",
        "!pip install pymongo"
      ]
    },
    {
      "cell_type": "markdown",
      "metadata": {
        "id": "e9ZY1_KuGjjh"
      },
      "source": [
        "Now, let's set up our MongoDB Connection, in order to do this please make sure you have your connection string, if you need help finding it please refer to the documentation.\n",
        "\n",
        "Keep in mind that you can name your database and collection anything you like! I am naming my database \"spritz_summer\" and my collection \"spritz_locations_WV\". Run the code block below to insert your documents into your cluster."
      ]
    },
    {
      "cell_type": "code",
      "execution_count": 52,
      "metadata": {
        "colab": {
          "base_uri": "https://localhost:8080/"
        },
        "id": "WBLGPr8rGxKN",
        "outputId": "c8c7ac6c-d7e9-4382-a047-1a09e31ed54c"
      },
      "outputs": [
        {
          "name": "stdout",
          "output_type": "stream",
          "text": [
            "Enter connection string here··········\n"
          ]
        },
        {
          "output_type": "execute_result",
          "data": {
            "text/plain": [
              "InsertManyResult([ObjectId('677bd035f5c4a49503a6e539'), ObjectId('677bd035f5c4a49503a6e53a'), ObjectId('677bd035f5c4a49503a6e53b'), ObjectId('677bd035f5c4a49503a6e53c'), ObjectId('677bd035f5c4a49503a6e53d'), ObjectId('677bd035f5c4a49503a6e53e'), ObjectId('677bd035f5c4a49503a6e53f'), ObjectId('677bd035f5c4a49503a6e540'), ObjectId('677bd035f5c4a49503a6e541'), ObjectId('677bd035f5c4a49503a6e542'), ObjectId('677bd035f5c4a49503a6e543'), ObjectId('677bd035f5c4a49503a6e544'), ObjectId('677bd035f5c4a49503a6e545'), ObjectId('677bd035f5c4a49503a6e546'), ObjectId('677bd035f5c4a49503a6e547'), ObjectId('677bd035f5c4a49503a6e548')], acknowledged=True)"
            ]
          },
          "metadata": {},
          "execution_count": 52
        }
      ],
      "source": [
        "from pymongo import MongoClient\n",
        "\n",
        "# set up your MongoDB connection\n",
        "connection_string = getpass.getpass(\n",
        "    prompt=\"Enter connection string here\"\n",
        ")\n",
        "client = MongoClient(connection_string)\n",
        "\n",
        "# name your database and collection anything you want since it will be created when you enter your data\n",
        "database = client[\"restaurants\"]\n",
        "collection = database[\"meghana_foods_in_blr\"]\n",
        "\n",
        "# insert our spritz locations\n",
        "collection.insert_many(spritz_locations)"
      ]
    },
    {
      "cell_type": "markdown",
      "metadata": {
        "id": "pYB60qUOHmj5"
      },
      "source": [
        "Perfect! Go ahead and check back in MongoDB Atlas in your cluster and make sure that everything looks the way we want it to look before we proceed. Please double check that your embedding field is there and that it's an array of 1536.\n",
        "\n",
        "## Which one comes first, Vector Search or Geospatial Queries?\n",
        "Both of these need to be the first stage in their aggregation pipelines, so instead of making one pipeline we are going to do a little loophole. We will do two pipelines. But how will we decide which?!\n",
        "\n",
        "When I'm using Google Maps to figure out where to go, I normally first search for what I'm looking for and then I see how far away it is from where I currently am and pick the closest location to me. So let's keep that mindset in place and start off with MongoDB Atlas Vector Search for this tutorial. But, I understand intuitively some of you might prefer to search via all nearby locations and then utilize Vector Search, so I'll highlight that method of searching for your spritz's as well.\n",
        "\n",
        "## MongoDB Atlas Vector Search\n",
        "We have a couple steps here. Our first step is to create a Vector Search Index. Do this inside of MongoDB Atlas by following this documentation. Please keep in mind that your index is NOT run in your script, it lives in your cluster. You'll know it's ready to go when the button turns green and it's activated."
      ]
    },
    {
      "cell_type": "code",
      "execution_count": null,
      "metadata": {
        "id": "MaWVmNG1J551"
      },
      "outputs": [],
      "source": [
        "# create a Vector Search Index so we can use it\n",
        "{\n",
        "    \"fields\": [\n",
        "        {\n",
        "            \"numDimensions\": 1536,\n",
        "            \"path\": \"embedding\",\n",
        "            \"similarity\": \"cosine\",\n",
        "            \"type\": \"vector\",\n",
        "        }\n",
        "    ]\n",
        "}"
      ]
    },
    {
      "cell_type": "markdown",
      "metadata": {
        "id": "Rv6GyjAERAgD"
      },
      "source": [
        "Once it's activated, let's get to Vector Searching!\n",
        "\n",
        "So, let's say I just finished dinner with my besties at our favorite restaurant in the West Village, Balaboosta. The food was great and it's a warm summer day and we're in the mood for post dinner spritz's outside, and we would prefer to be seated quickly. Let's see if we can find a spot!\n",
        "\n",
        "Our first step with building our our pipeline is to embed our query. We can't compare text to vectors, we have to compare vectors to vectors. Do this with only a couple lines since we are using the same embedding model that we embedded our reviews with:"
      ]
    },
    {
      "cell_type": "code",
      "execution_count": 80,
      "metadata": {
        "id": "Xe3aRbLJSHg5",
        "outputId": "bf61ac13-5f96-498c-f66a-9eb7837ee981",
        "colab": {
          "base_uri": "https://localhost:8080/"
        }
      },
      "outputs": [
        {
          "output_type": "stream",
          "name": "stderr",
          "text": [
            "The tokenizer class you load from this checkpoint is not the same type as the class this function is called from. It may result in unexpected tokenization. \n",
            "The tokenizer class you load from this checkpoint is 'GPT4Tokenizer'. \n",
            "The class this function is called from is 'GPT2TokenizerFast'.\n"
          ]
        },
        {
          "output_type": "stream",
          "name": "stdout",
          "text": [
            "[15339, 1917]\n"
          ]
        }
      ],
      "source": [
        "# You have to embed your queries just the same way you embedded your documents.\n",
        "# my query\n",
        "query_description = \"Meghana Foods with 4.3+ ratings\"\n",
        "\n",
        "# query_description = getpass.getpass(\n",
        "#     prompt=\"Enter your query\"\n",
        "# )\n",
        "# we need to embed the query as well, since our documents are embedded\n",
        "query_vector = get_embedding(query_description)\n",
        "print(query_vector)"
      ]
    },
    {
      "cell_type": "markdown",
      "metadata": {
        "id": "KU6r42SPSTSa"
      },
      "source": [
        "Now, let's build out our aggregation pipeline. Since we are going to be using a $geoNear pipeline next, we want to keep in the IDs found from this search:"
      ]
    },
    {
      "cell_type": "code",
      "execution_count": 69,
      "metadata": {
        "id": "aO-Y9sBqSSw5"
      },
      "outputs": [],
      "source": [
        "restaurants_near_me_vector = [\n",
        "    {\n",
        "        \"$vectorSearch\": {\n",
        "            \"index\": \"restaurants_finder\",\n",
        "            \"path\": \"embedding\",\n",
        "            \"queryVector\": query_vector,\n",
        "            \"numCandidates\": 15,\n",
        "            \"limit\": 5,\n",
        "        }\n",
        "    },\n",
        "    {\n",
        "        \"$project\": {\n",
        "            \"_id\": 1,  # we want to keep this in place so we can search again using GeoNear\n",
        "            \"name\": 1,\n",
        "            \"rating\": 1,\n",
        "            # \"address\": 1,\n",
        "            # \"location\": 1,\n",
        "            # \"embedding\": 1\n",
        "        }\n",
        "    },\n",
        "]"
      ]
    },
    {
      "cell_type": "markdown",
      "metadata": {
        "id": "6lF_g-oNSrVu"
      },
      "source": [
        "Let's print out our results and see what happens from our query of \"outdoor seating quick service\" :"
      ]
    },
    {
      "cell_type": "code",
      "execution_count": 72,
      "metadata": {
        "colab": {
          "base_uri": "https://localhost:8080/"
        },
        "id": "89jlB-X-S2WL",
        "outputId": "19327abf-16e1-49fe-89b6-3c2133124b37"
      },
      "outputs": [
        {
          "output_type": "stream",
          "name": "stdout",
          "text": [
            "{'_id': ObjectId('677bd035f5c4a49503a6e53a'), 'name': 'Meghana Foods', 'rating': 4.3}\n",
            "{'_id': ObjectId('677bd035f5c4a49503a6e53e'), 'name': 'Meghana Chicken Centre', 'rating': 5}\n",
            "{'_id': ObjectId('677bd035f5c4a49503a6e541'), 'name': 'Meghana Foods and', 'rating': 5}\n",
            "{'_id': ObjectId('677bd035f5c4a49503a6e543'), 'name': 'Narmada Chain Of Restaurant [Koramangala]', 'rating': 4.4}\n",
            "{'_id': ObjectId('677bd035f5c4a49503a6e544'), 'name': 'Shanmukha Restaurant - Jayanagar 9th Block', 'rating': 4.1}\n"
          ]
        }
      ],
      "source": [
        "restaurants_near_me_vector_results = list(collection.aggregate(restaurants_near_me_vector))\n",
        "for result in restaurants_near_me_vector_results:\n",
        "    print(result)"
      ]
    },
    {
      "cell_type": "markdown",
      "metadata": {
        "id": "XpbcD2gzUYHM"
      },
      "source": [
        "We have five fantastic options! Let's go ahead and save the IDs from our above pipeline in a simple line:"
      ]
    },
    {
      "cell_type": "code",
      "execution_count": 74,
      "metadata": {
        "colab": {
          "base_uri": "https://localhost:8080/"
        },
        "id": "rpBe2qdqUrkl",
        "outputId": "33322120-e446-441a-fdd1-4255542dbf32"
      },
      "outputs": [
        {
          "output_type": "stream",
          "name": "stdout",
          "text": [
            "[ObjectId('677bd035f5c4a49503a6e53a'), ObjectId('677bd035f5c4a49503a6e53e'), ObjectId('677bd035f5c4a49503a6e541'), ObjectId('677bd035f5c4a49503a6e543'), ObjectId('677bd035f5c4a49503a6e544')]\n"
          ]
        }
      ],
      "source": [
        "# now, we want to take the _ids from our above pipeline so we can use it to geo search\n",
        "restaurants_near_me_ids = [result[\"_id\"] for result in restaurants_near_me_vector_results]\n",
        "print(restaurants_near_me_ids)"
      ]
    },
    {
      "cell_type": "markdown",
      "metadata": {
        "id": "Zkh6ZTw3U6qG"
      },
      "source": [
        "Now that they're saved, we can build out our $geoNear pipeline and see which one of these options is closest to us from our starting location, Balaboosta, and which one we can walk over to!\n",
        "\n",
        "To figure out the coordinates of Balaboosta, I right clicked on Google Maps and saved in the coordinates and then made sure I was including the longitude and latitude in the proper order."
      ]
    },
    {
      "cell_type": "code",
      "execution_count": 79,
      "metadata": {
        "colab": {
          "base_uri": "https://localhost:8080/"
        },
        "id": "gKLayVPtU6Qe",
        "outputId": "4318375c-6fb2-4416-ee9e-be4c45599a8e"
      },
      "outputs": [
        {
          "output_type": "stream",
          "name": "stdout",
          "text": [
            "{'name': 'Shanmukha Restaurant - Jayanagar 9th Block', 'address': '1313, 25th Main Rd, near Bangalore Central Mall, Kottapalya, Jayanagara 9th Block, Jayanagar, Bengaluru, Karnataka 560041, India', 'rating': 4.1, 'dist': {'calculated': 2651.8111941607744}}\n",
            "{'name': 'Meghana Foods and', 'address': 'WJV6+739, Balappa Layout, AK Colony, Adugodi, Bengaluru, Karnataka 560030, India', 'rating': 5, 'dist': {'calculated': 2777.7811261001793}}\n"
          ]
        }
      ],
      "source": [
        "# https://www.mongodb.com/docs/manual/geospatial-queries/\n",
        "\n",
        "# create a 2dsphere on our location field, so this is now putting a 2dsphere index on our spritz_locationsWV\n",
        "collection.create_index({\"location\": \"2dsphere\"})\n",
        "\n",
        "# use the $geoNear operator to return documents that are at least 100 meters and at most 1000 meters from our specified GeoJSON point.\n",
        "spritz_near_me_geo = [\n",
        "    {\n",
        "        \"$geoNear\": {\n",
        "            \"near\": {\n",
        "                \"type\": \"Point\",\n",
        "                \"coordinates\": [77.58479014941402 , 12.940413483786351],\n",
        "            },\n",
        "            # here we are saying that we only want to use the sample size from above\n",
        "            \"query\": {\"_id\": {\"$in\": restaurants_near_me_ids}},\n",
        "            \"minDistance\": 100,\n",
        "            \"maxDistance\": 3000,\n",
        "            \"spherical\": True,\n",
        "            \"distanceField\": \"dist.calculated\",\n",
        "        }\n",
        "    },\n",
        "    {\n",
        "        \"$project\": {\n",
        "            \"_id\": 0,\n",
        "            \"name\": 1,\n",
        "            \"address\": 1,\n",
        "            \"rating\": 1,\n",
        "            \"dist.calculated\": 1,\n",
        "        }\n",
        "    },\n",
        "    {\"$limit\": 3},\n",
        "    {\"$sort\": {\"dist.calculated\": 1}},\n",
        "]\n",
        "\n",
        "spritz_near_me_geo_results = collection.aggregate(spritz_near_me_geo)\n",
        "for result in spritz_near_me_geo_results:\n",
        "    print(result)"
      ]
    },
    {
      "cell_type": "markdown",
      "metadata": {
        "id": "xR9BPpb4Vgy-"
      },
      "source": [
        "Seems like the restaurant we're heading over to is Pastis since it's the\n",
        "\n",
        "*   List item\n",
        "*   List item\n",
        "\n",
        "closest and fits our criteria perfectly."
      ]
    },
    {
      "cell_type": "markdown",
      "metadata": {
        "id": "uSODU6nc1KvU"
      },
      "source": [
        "## Other way around! Geospatial Queries first, then Vector Search"
      ]
    },
    {
      "cell_type": "code",
      "execution_count": null,
      "metadata": {
        "colab": {
          "base_uri": "https://localhost:8080/"
        },
        "id": "sjiqJHl_1OLp",
        "outputId": "ce10fc8f-35a6-40e6-ff6f-acb2df2700ad"
      },
      "outputs": [
        {
          "name": "stdout",
          "output_type": "stream",
          "text": [
            "{'_id': ObjectId('66bcd2b05f6a590b646ef369'), 'name': 'While We Were Young Kitchen & Cocktails', 'rating': 4.3, 'dist.calculated': 468.19791207065526}\n",
            "{'_id': ObjectId('66bcd2b05f6a590b646ef361'), 'name': 'Bar Pisellino', 'rating': 4.3, 'dist.calculated': 582.0735279994905}\n",
            "{'_id': ObjectId('66bcd2b05f6a590b646ef373'), 'name': 'Pastis', 'rating': 4.5, 'dist.calculated': 182.82575242382333}\n"
          ]
        }
      ],
      "source": [
        "# xreate a 2dsphere index on oue location field\n",
        "collection.create_index({\"location\": \"2dsphere\"})\n",
        "\n",
        "# our $geoNear pipeline\n",
        "spritz_near_me_geo = [\n",
        "    {\n",
        "        \"$geoNear\": {\n",
        "            \"near\": {\n",
        "                \"type\": \"Point\",\n",
        "                \"coordinates\": [-74.0059456749148, 40.73781277366724],\n",
        "            },\n",
        "            \"minDistance\": 100,\n",
        "            \"maxDistance\": 1000,\n",
        "            \"spherical\": True,\n",
        "            \"distanceField\": \"dist.calculated\",\n",
        "        }\n",
        "    },\n",
        "    {\"$project\": {\"_id\": 1, \"dist.calculated\": 1}},\n",
        "]\n",
        "\n",
        "# list of ID's and distances so we can use them as our sample size\n",
        "places_ids = list(collection.aggregate(spritz_near_me_geo))\n",
        "distances = {\n",
        "    result[\"_id\"]: result[\"dist\"][\"calculated\"] for result in places_ids\n",
        "}  # have to create a new dictionary to keep our distances\n",
        "spritz_near_me_ids = [result[\"_id\"] for result in places_ids]\n",
        "# print(spritz_near_me_ids)\n",
        "\n",
        "# our vector search index that was created inside of MongoDB Atlas\n",
        "vector_search_index = {\n",
        "    \"fields\": [\n",
        "        {\n",
        "            \"numDimensions\": 1536,\n",
        "            \"path\": \"embedding\",\n",
        "            \"similarity\": \"cosine\",\n",
        "            \"type\": \"vector\",\n",
        "        },\n",
        "        {\"type\": \"filter\", \"path\": \"_id\"},\n",
        "    ]\n",
        "}\n",
        "\n",
        "# vector search pipeline\n",
        "spritz_near_me_vector = [\n",
        "    {\n",
        "        \"$vectorSearch\": {\n",
        "            \"index\": \"vector_index\",\n",
        "            \"path\": \"embedding\",\n",
        "            \"queryVector\": query_vector,\n",
        "            \"numCandidates\": 15,\n",
        "            \"limit\": 3,\n",
        "            \"filter\": {\"_id\": {\"$in\": spritz_near_me_ids}},\n",
        "        }\n",
        "    },\n",
        "    {\n",
        "        \"$project\": {\n",
        "            \"_id\": 1,  # we want to keep this in place\n",
        "            \"name\": 1,\n",
        "            \"rating\": 1,\n",
        "            \"dist.calculated\": 1,\n",
        "            # \"reviews\": 1\n",
        "            # \"address\": 1,\n",
        "            # \"location\": 1,\n",
        "            # \"embedding\": 1\n",
        "        }\n",
        "    },\n",
        "]\n",
        "\n",
        "\n",
        "spritz_near_me_vector_results = collection.aggregate(spritz_near_me_vector)\n",
        "for result in spritz_near_me_vector_results:\n",
        "    result[\"dist.calculated\"] = distances.get(result[\"_id\"])\n",
        "    print(result)"
      ]
    }
  ],
  "metadata": {
    "colab": {
      "provenance": [],
      "include_colab_link": true
    },
    "kernelspec": {
      "display_name": "Python 3",
      "name": "python3"
    },
    "language_info": {
      "name": "python"
    }
  },
  "nbformat": 4,
  "nbformat_minor": 0
}